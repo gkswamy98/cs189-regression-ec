{
 "cells": [
  {
   "cell_type": "code",
   "execution_count": 179,
   "metadata": {
    "collapsed": true
   },
   "outputs": [],
   "source": [
    "import pandas as pd\n",
    "import numpy as np\n",
    "import itertools"
   ]
  },
  {
   "cell_type": "code",
   "execution_count": 158,
   "metadata": {
    "collapsed": false
   },
   "outputs": [
    {
     "name": "stdout",
     "output_type": "stream",
     "text": [
      "(515, 10)\n",
      "(515,)\n"
     ]
    }
   ],
   "source": [
    "def a():\n",
    "    data = pd.read_csv('forest_fires.csv').values\n",
    "    processed_data = np.hstack((data[:,:2], data[:, 4:]))\n",
    "    np.random.shuffle(processed_data)\n",
    "    X, Y = processed_data[:, :-1], processed_data[:, -1]\n",
    "    return np.array(X, dtype=np.float64)[:-2], np.array(Y, dtype=np.float64)[:-2]\n",
    "\n",
    "X, Y = a()\n",
    "print(X.shape)\n",
    "print(Y.shape)"
   ]
  },
  {
   "cell_type": "code",
   "execution_count": 176,
   "metadata": {
    "collapsed": false
   },
   "outputs": [
    {
     "name": "stdout",
     "output_type": "stream",
     "text": [
      "(412, 10)\n",
      "(103, 10)\n",
      "(412,)\n",
      "(103,)\n",
      "(412, 10)\n",
      "(103, 10)\n",
      "(412,)\n",
      "(103,)\n",
      "(412, 10)\n",
      "(103, 10)\n",
      "(412,)\n",
      "(103,)\n",
      "(412, 10)\n",
      "(103, 10)\n",
      "(412,)\n",
      "(103,)\n",
      "(412, 10)\n",
      "(103, 10)\n",
      "(412,)\n",
      "(103,)\n"
     ]
    },
    {
     "data": {
      "text/plain": [
       "5.3928862887794144"
      ]
     },
     "execution_count": 176,
     "metadata": {},
     "output_type": "execute_result"
    }
   ],
   "source": [
    "def gen_k_fold(x, y, k):\n",
    "    x_splits = np.vsplit(x, k)\n",
    "    y_splits = np.split(y, k)\n",
    "    return x_splits, y_splits\n",
    "    \n",
    "def b():\n",
    "    x, y = a()\n",
    "    x_splits, y_splits = gen_k_fold(x, y, 5)\n",
    "    total_error = 0\n",
    "    for i in range(5):\n",
    "        x_train = np.vstack([x for j, x in enumerate(x_splits) if j != i])\n",
    "        x_test = np.vstack(x_splits[i])\n",
    "        y_train = []\n",
    "        for j in range(len(y_splits)):\n",
    "            if j != i:\n",
    "                y_train.extend(y_splits[j])\n",
    "        y_train = np.array(y_train)\n",
    "        y_test = np.array(y_splits[i])\n",
    "        print(x_train.shape)\n",
    "        print(x_test.shape)\n",
    "        print(y_train.shape)\n",
    "        print(y_test.shape)\n",
    "        coeff = np.linalg.solve(x_train.T @ x_train, x_train.T @ y_train)\n",
    "        pred = x_test @ coeff\n",
    "        error = (1 / pred.shape[0]) * np.linalg.norm(pred - y_test)\n",
    "        total_error += error\n",
    "    return total_error / 5\n",
    "        \n",
    "    \n",
    "b()"
   ]
  },
  {
   "cell_type": "code",
   "execution_count": 177,
   "metadata": {
    "collapsed": false
   },
   "outputs": [
    {
     "name": "stdout",
     "output_type": "stream",
     "text": [
      "(412, 4)\n",
      "(103, 4)\n",
      "(412,)\n",
      "(103,)\n",
      "(412, 4)\n",
      "(103, 4)\n",
      "(412,)\n",
      "(103,)\n",
      "(412, 4)\n",
      "(103, 4)\n",
      "(412,)\n",
      "(103,)\n",
      "(412, 4)\n",
      "(103, 4)\n",
      "(412,)\n",
      "(103,)\n",
      "(412, 4)\n",
      "(103, 4)\n",
      "(412,)\n",
      "(103,)\n"
     ]
    },
    {
     "data": {
      "text/plain": [
       "4.7619997547141155"
      ]
     },
     "execution_count": 177,
     "metadata": {},
     "output_type": "execute_result"
    }
   ],
   "source": [
    "def c():\n",
    "    x, y = a()\n",
    "    x = np.array([row[-4:] for row in x])\n",
    "    x_splits, y_splits = gen_k_fold(x, y, 5)\n",
    "    total_error = 0\n",
    "    for i in range(5):\n",
    "        x_train = np.vstack([x for j, x in enumerate(x_splits) if j != i])\n",
    "        x_test = np.vstack(x_splits[i])\n",
    "        y_train = []\n",
    "        for j in range(len(y_splits)):\n",
    "            if j != i:\n",
    "                y_train.extend(y_splits[j])\n",
    "        y_train = np.array(y_train)\n",
    "        y_test = np.array(y_splits[i])\n",
    "        print(x_train.shape)\n",
    "        print(x_test.shape)\n",
    "        print(y_train.shape)\n",
    "        print(y_test.shape)\n",
    "        coeff = np.linalg.solve(x_train.T @ x_train, x_train.T @ y_train)\n",
    "        pred = x_test @ coeff\n",
    "        error = (1 / pred.shape[0]) * np.linalg.norm(pred - y_test)\n",
    "        total_error += error\n",
    "    return total_error / 5\n",
    "c()"
   ]
  },
  {
   "cell_type": "code",
   "execution_count": 184,
   "metadata": {
    "collapsed": false
   },
   "outputs": [
    {
     "data": {
      "text/plain": [
       "(1, 100, 2.7919669888039018)"
      ]
     },
     "execution_count": 184,
     "metadata": {},
     "output_type": "execute_result"
    }
   ],
   "source": [
    "partition = int(0.8 * X.shape[0])\n",
    "train_x = X[:partition]\n",
    "train_y = Y[:partition]\n",
    "test_x = X[partition:]\n",
    "test_y = Y[partition:]\n",
    "\n",
    "def d():\n",
    "    lambda_values, degree_values = [0.01, .1, 1, 10, 100], list(range(1, 6))\n",
    "\n",
    "    def create_a(x, degree):\n",
    "        def create_features(features, degree):\n",
    "            result = np.array([1])\n",
    "            for pdegree in range(1, degree + 1):\n",
    "                presult = list(itertools.combinations_with_replacement(features, pdegree))\n",
    "                result = np.append(result, np.prod(presult, axis=1))\n",
    "            return result\n",
    "        return np.array([create_features(i, degree) for i in x])\n",
    "\n",
    "    def regress(X_train, y_train, X_test, y_test, lambda_v):\n",
    "        ridge = X_train.T @ X_train + lambda_v * np.eye(len(X_train[0]))\n",
    "        weights = np.linalg.solve(ridge, X_train.T @ y_train)\n",
    "        pred = X_test @ weights\n",
    "        return np.linalg.norm(pred - y_test) / pred.shape[0]\n",
    "    \n",
    "    min_degree, min_lambda, min_error = 99999999999, 99999999999, 99999999999\n",
    "    for degree_v in degree_values:\n",
    "        train_X, test_X = create_a(train_x, degree_v), create_a(test_x, degree_v)\n",
    "        for lambda_v in lambda_values:\n",
    "            error = regress(train_X, train_y, test_X, test_y, lambda_v)\n",
    "            if error < min_error:\n",
    "                min_degree, min_lambda, min_error = degree_v, lambda_v, error\n",
    "    return min_degree, min_lambda, min_error\n",
    "\n",
    "\n",
    "d()\n"
   ]
  },
  {
   "cell_type": "code",
   "execution_count": 186,
   "metadata": {
    "collapsed": false
   },
   "outputs": [
    {
     "data": {
      "text/plain": [
       "(1, 2.6173825994574962)"
      ]
     },
     "execution_count": 186,
     "metadata": {},
     "output_type": "execute_result"
    }
   ],
   "source": [
    "def e():\n",
    "    const_x_train, const_x_test = train_x[:,6:], test_x[:,6:]\n",
    "    min_feature_count, min_error = 99999999999, 99999999999\n",
    "    for feature_count in range(1, 7):\n",
    "        add_x_train = np.array(list(itertools.combinations(train_x[:,:6].T, feature_count)))\n",
    "        add_x_test = np.array(list(itertools.combinations(test_x[:,:6].T, feature_count)))\n",
    "        for i in range(0, len(add_x_train)):\n",
    "            Train_X = np.hstack((add_x_train[i].T, const_x_train))\n",
    "            Test_X = np.hstack((add_x_test[i].T, const_x_test))\n",
    "            Train_X, Test_X = create_a(Train_X, min_degree), create_a(Test_X, min_degree)\n",
    "            error = regress(Train_X, train_y, Test_X, test_y, min_lambda)\n",
    "            if error < min_error:\n",
    "                min_feature_count, min_error = feature_count, error\n",
    "    return min_feature_count, min_error\n",
    "\n",
    "e()"
   ]
  },
  {
   "cell_type": "code",
   "execution_count": null,
   "metadata": {
    "collapsed": true
   },
   "outputs": [],
   "source": []
  }
 ],
 "metadata": {
  "anaconda-cloud": {},
  "kernelspec": {
   "display_name": "Python [default]",
   "language": "python",
   "name": "python3"
  },
  "language_info": {
   "codemirror_mode": {
    "name": "ipython",
    "version": 3
   },
   "file_extension": ".py",
   "mimetype": "text/x-python",
   "name": "python",
   "nbconvert_exporter": "python",
   "pygments_lexer": "ipython3",
   "version": "3.5.2"
  }
 },
 "nbformat": 4,
 "nbformat_minor": 1
}
